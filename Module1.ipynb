{
 "cells": [
  {
   "cell_type": "markdown",
   "metadata": {},
   "source": [
    "# Introduction to Python"
   ]
  },
  {
   "cell_type": "markdown",
   "metadata": {},
   "source": [
    "Python, created by Guido van Rossum and released in 1991, is a versatile programming language used for web development, software development, mathematics, and system scripting.\n",
    "\n",
    "### Key uses of Python:\n",
    "- Developing web applications on servers\n",
    "- Building software workflows\n",
    "- Connecting to databases and modifying files\n",
    "- Handling big data and performing complex mathematics\n",
    "- Rapid prototyping and production software development\n",
    "\n",
    "### Why use Python?\n",
    "- Cross-platform compatibility (Windows, Mac, Linux, etc.)\n",
    "- Simple, readable syntax with fewer lines of code\n",
    "- Supports procedural, object-oriented, and functional programming\n",
    "- Runs on an interpreter, enabling quick prototyping\n",
    "\n",
    "### Note:\n",
    "- Python 3 is the latest major version, though Python 2 still sees some use.\n",
    "- It can be written in text editors or IDEs like VSCode, Pycharm, Thonny, and Eclipse.\n",
    "- Python uses indentation for scope instead of braces or semicolons, prioritizing readability."
   ]
  },
  {
   "cell_type": "markdown",
   "metadata": {},
   "source": [
    "### Resources\n",
    "1. [The Python Wiki](https://wiki.python.org/moin/)\n",
    "2. [SciPy lecture notes](http://scipy-lectures.org/)\n",
    "3. [SciPy reference](https://docs.scipy.org/doc/scipy/reference/)\n",
    "4. [W3Schools](https://www.w3schools.com/python/default.asp)"
   ]
  },
  {
   "cell_type": "markdown",
   "metadata": {},
   "source": [
    "PS:\n",
    "\\\n",
    "If you ever hit a wall and think, \"Wait, what?\", just take a deep breath, relax, and unleash the power of internet, it is like a programming sidekick, always ready to help.  So don’t panic if things seem a bit wonky; with a little practice and some good ol’ tinkering (which you can totally do here!), you'll be coding like a pro in no time. Ready, set, code on!"
   ]
  },
  {
   "cell_type": "markdown",
   "metadata": {},
   "source": [
    "### The Print Statement\n",
    "The print statement is used to output text to the screen. Let's start with Hello World!"
   ]
  },
  {
   "cell_type": "code",
   "execution_count": 15,
   "metadata": {},
   "outputs": [
    {
     "name": "stdout",
     "output_type": "stream",
     "text": [
      "Hello World\n",
      "Hello World\n",
      "Hello\n",
      "World\n",
      "Hello \"World\"\n",
      "Hello 'World'\n",
      "Hello \\World\\\n",
      "Hello World\n"
     ]
    }
   ],
   "source": [
    "print(\"Hello World\")\n",
    "print(f'Hello World')\n",
    "print('Hello\\nWorld')\n",
    "print('Hello \"World\"')\n",
    "print('Hello \\'World\\'')\n",
    "print('Hello \\\\World\\\\')\n",
    "print(f'Hello World')\n",
    "#print(\"Hello World\")\n",
    "\n",
    "# This is a comment, which can be used to explain the code and make it more readable. \n",
    "# This is not executed by the interpreter/compiler"
   ]
  },
  {
   "cell_type": "markdown",
   "metadata": {},
   "source": [
    "### Variables\n",
    "Variables in Python are like versatile containers that hold data values. When you assign a value to a variable, you're essentially storing that value in the container. \n",
    "\n",
    "You don't need to declare the type of variable in Python—it adapts based on the assigned value. Plus, these variables are flexible: you can change their type and value at any point after they’ve been set.\n",
    "\n",
    "For instance, you could start with a variable holding an integer and later change it to store a string or even a complex object."
   ]
  },
  {
   "cell_type": "code",
   "execution_count": 16,
   "metadata": {},
   "outputs": [
    {
     "name": "stdout",
     "output_type": "stream",
     "text": [
      "10\n",
      "Alice\n",
      "Alice dons the jersey number 10\n"
     ]
    }
   ],
   "source": [
    "x = 10\n",
    "y = \"Alice\"\n",
    "print(x)\n",
    "print(y)\n",
    "print(f'{y} dons the jersey number {x}')"
   ]
  },
  {
   "cell_type": "code",
   "execution_count": 18,
   "metadata": {},
   "outputs": [
    {
     "name": "stdout",
     "output_type": "stream",
     "text": [
      "7\n",
      "Bob\n"
     ]
    }
   ],
   "source": [
    "x = 7\n",
    "print(x)\n",
    "\n",
    "x = \"Bob\" # Redefining x\n",
    "print(x)"
   ]
  },
  {
   "cell_type": "code",
   "execution_count": 22,
   "metadata": {},
   "outputs": [
    {
     "name": "stdout",
     "output_type": "stream",
     "text": [
      "3.56\n",
      "2.0\n",
      "5\n"
     ]
    }
   ],
   "source": [
    "'''\n",
    "Specifying the data type of a variable:\n",
    "In Python, you can specify the data type of a variable when you declare it.\n",
    "For example, you can declare a variable as an integer using the int() function or as a string using str() function.\n",
    "\n",
    "'''\n",
    "x = str(3.56) # '3.56'\n",
    "y = float(2) # 2.0\n",
    "z = int(5) # 5\n",
    "print(x)\n",
    "print(y)\n",
    "print(z)\n",
    "\n",
    "#print (x+y) # raises error as you can't add/concatenate a string with float"
   ]
  },
  {
   "cell_type": "code",
   "execution_count": 26,
   "metadata": {},
   "outputs": [
    {
     "name": "stdout",
     "output_type": "stream",
     "text": [
      "<class 'int'>\n",
      "<class 'float'>\n",
      "<class 'str'>\n",
      "<class 'complex'>\n"
     ]
    }
   ],
   "source": [
    "# type() function\n",
    "print(type(5))  # Output: <class 'int'>\n",
    "print(type(3.14))  # Output: <class 'float'>\n",
    "print(type('Alice')) # Output: <class 'str'>\n",
    "print(type(4 + 3j)) # Output: <class 'complex'>"
   ]
  },
  {
   "cell_type": "markdown",
   "metadata": {},
   "source": [
    "Variable names are case-sensitive, X and x are different variables."
   ]
  },
  {
   "cell_type": "code",
   "execution_count": 39,
   "metadata": {},
   "outputs": [
    {
     "name": "stdout",
     "output_type": "stream",
     "text": [
      "a+b = 15\n",
      "a-b = 5\n",
      "a*b = 50\n",
      "a/b = 2.0\n",
      "a%b = 0\n",
      "a**b = 100000\n",
      "a//b = 2\n",
      "a&b = 0\n",
      "a|b = 15\n",
      "a>b = True\n",
      "False\n",
      "True\n"
     ]
    }
   ],
   "source": [
    "# Basic Arithmetic\n",
    "a, b = 10, 5 # Try out with different values\n",
    "\n",
    "# Addition\n",
    "print(f'a+b = {a+b}')\n",
    "\n",
    "# Subtraction\n",
    "print(f'a-b = {a-b}')\n",
    "\n",
    "# Multiplication\n",
    "print(f'a*b = {a*b}')\n",
    "\n",
    "# Division\n",
    "print(f'a/b = {a/b}')\n",
    "\n",
    "# Modulus\n",
    "print(f'a%b = {a%b}')\n",
    "\n",
    "# Exponentiation\n",
    "print(f'a**b = {a**b}')\n",
    "\n",
    "# Floor Division\n",
    "print(f'a//b = {a//b}')  # This will return the largest whole number\n",
    "\n",
    "# Bitwise AND\n",
    "print(f'a&b = {a&b}')\n",
    "\n",
    "# Bitwise OR\n",
    "print(f'a|b = {a|b}')\n",
    "\n",
    "# Booleans\n",
    "print(f'a>b = {a>b}')  # This will return a boolean value\n",
    "print(bool(0))\n",
    "print(bool(1))"
   ]
  },
  {
   "cell_type": "code",
   "execution_count": 40,
   "metadata": {},
   "outputs": [
    {
     "name": "stdout",
     "output_type": "stream",
     "text": [
      "True\n",
      "False\n"
     ]
    }
   ],
   "source": [
    "# isinstance() is a useful function, which can be used to determine if an object is of a certain data type or not\n",
    "print(isinstance(10, int))  # This will return True\n",
    "print(isinstance(10, float))  # This will return False"
   ]
  },
  {
   "cell_type": "markdown",
   "metadata": {},
   "source": [
    "### List, Tuple, Set and Dictionary"
   ]
  }
 ],
 "metadata": {
  "kernelspec": {
   "display_name": "Python 3",
   "language": "python",
   "name": "python3"
  },
  "language_info": {
   "codemirror_mode": {
    "name": "ipython",
    "version": 3
   },
   "file_extension": ".py",
   "mimetype": "text/x-python",
   "name": "python",
   "nbconvert_exporter": "python",
   "pygments_lexer": "ipython3",
   "version": "3.8.10"
  }
 },
 "nbformat": 4,
 "nbformat_minor": 2
}
