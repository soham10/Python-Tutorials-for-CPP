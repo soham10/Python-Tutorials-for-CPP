{
 "cells": [
  {
   "cell_type": "markdown",
   "metadata": {},
   "source": [
    "# Introduction to Python"
   ]
  },
  {
   "cell_type": "markdown",
   "metadata": {},
   "source": [
    "Python, created by Guido van Rossum and released in 1991, is a versatile programming language used for web development, software development, mathematics, and system scripting.\n",
    "\n",
    "### Key uses of Python:\n",
    "- Developing web applications on servers\n",
    "- Building software workflows\n",
    "- Connecting to databases and modifying files\n",
    "- Handling big data and performing complex mathematics\n",
    "- Rapid prototyping and production software development\n",
    "\n",
    "### Why use Python?\n",
    "- Cross-platform compatibility (Windows, Mac, Linux, etc.)\n",
    "- Simple, readable syntax with fewer lines of code\n",
    "- Supports procedural, object-oriented, and functional programming\n",
    "- Runs on an interpreter, enabling quick prototyping\n",
    "\n",
    "### Note:\n",
    "- Python 3 is the latest major version, though Python 2 still sees some use.\n",
    "- It can be written in text editors or IDEs like Pycharm, Thonny, and Eclipse.\n",
    "- Python uses indentation for scope instead of braces or semicolons, prioritizing readability."
   ]
  },
  {
   "cell_type": "markdown",
   "metadata": {},
   "source": [
    "### Resources\n",
    "1. [The Python Wiki](https://wiki.python.org/moin/)\n",
    "2. [SciPy lecture notes](http://scipy-lectures.org/)\n",
    "3. [SciPy reference](https://docs.scipy.org/doc/scipy/reference/)\n",
    "4. [W3Schools](https://www.w3schools.com/python/default.asp)"
   ]
  },
  {
   "cell_type": "markdown",
   "metadata": {},
   "source": [
    "PS:\n",
    "\\\n",
    "If you ever hit a wall and think, \"Wait, what?\", just take a deep breath, relax, and unleash the power of internet, it is like a programming sidekick, always ready to help.  So don’t panic if things seem a bit wonky; with a little practice and some good ol’ tinkering (which you can totally do here!), you'll be coding like a pro in no time. Ready, set, code on!"
   ]
  },
  {
   "cell_type": "code",
   "execution_count": 1,
   "metadata": {},
   "outputs": [
    {
     "name": "stdout",
     "output_type": "stream",
     "text": [
      "Hello World\n"
     ]
    }
   ],
   "source": [
    "print(\"Hello World\")"
   ]
  }
 ],
 "metadata": {
  "kernelspec": {
   "display_name": "Python 3",
   "language": "python",
   "name": "python3"
  },
  "language_info": {
   "codemirror_mode": {
    "name": "ipython",
    "version": 3
   },
   "file_extension": ".py",
   "mimetype": "text/x-python",
   "name": "python",
   "nbconvert_exporter": "python",
   "pygments_lexer": "ipython3",
   "version": "3.8.10"
  }
 },
 "nbformat": 4,
 "nbformat_minor": 2
}
