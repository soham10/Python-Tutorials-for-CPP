{
 "cells": [
  {
   "cell_type": "markdown",
   "metadata": {},
   "source": [
    "# Introduction to Python"
   ]
  },
  {
   "cell_type": "markdown",
   "metadata": {},
   "source": [
    "Python, created by Guido van Rossum and released in 1991, is a versatile programming language used for web development, software development, mathematics, and system scripting.\n",
    "\n",
    "### Key uses of Python:\n",
    "- Developing web applications on servers\n",
    "- Building software workflows\n",
    "- Connecting to databases and modifying files\n",
    "- Handling big data and performing complex mathematics\n",
    "- Rapid prototyping and production software development\n",
    "\n",
    "### Why use Python?\n",
    "- Cross-platform compatibility (Windows, Mac, Linux, etc.)\n",
    "- Simple, readable syntax with fewer lines of code\n",
    "- Supports procedural, object-oriented, and functional programming\n",
    "- Runs on an interpreter, enabling quick prototyping\n",
    "\n",
    "### Note:\n",
    "- Python 3 is the latest major version, though Python 2 still sees some use.\n",
    "- It can be written in text editors or IDEs like VSCode, Pycharm, Thonny, and Eclipse.\n",
    "- Python uses indentation for scope instead of braces or semicolons, prioritizing readability."
   ]
  },
  {
   "cell_type": "markdown",
   "metadata": {},
   "source": [
    "### Resources\n",
    "1. [The Python Wiki](https://wiki.python.org/moin/)\n",
    "2. [SciPy lecture notes](http://scipy-lectures.org/)\n",
    "3. [SciPy reference](https://docs.scipy.org/doc/scipy/reference/)\n",
    "4. [W3Schools](https://www.w3schools.com/python/default.asp)"
   ]
  },
  {
   "cell_type": "markdown",
   "metadata": {},
   "source": [
    "PS:\n",
    "\\\n",
    "If you ever hit a wall and think, \"Wait, what?\", just take a deep breath, relax, and unleash the power of internet, it is like a programming sidekick, always ready to help.  So don’t panic if things seem a bit wonky; with a little practice and some good ol’ tinkering (which you can totally do here!), you'll be coding like a pro in no time. Ready, set, code on!"
   ]
  },
  {
   "cell_type": "markdown",
   "metadata": {},
   "source": [
    "### The Print Statement\n",
    "The print statement is used to output text to the screen. Let's start with Hello World!"
   ]
  },
  {
   "cell_type": "code",
   "execution_count": 10,
   "metadata": {},
   "outputs": [
    {
     "name": "stdout",
     "output_type": "stream",
     "text": [
      "Hello World\n",
      "Hello World\n",
      "Hello\n",
      "World\n",
      "Hello \"World\"\n",
      "Hello 'World'\n",
      "Hello \\World\\\n",
      "Hello World\n"
     ]
    }
   ],
   "source": [
    "print(\"Hello World\")\n",
    "print(f'Hello World')\n",
    "print('Hello\\nWorld')\n",
    "print('Hello \"World\"')\n",
    "print('Hello \\'World\\'')\n",
    "print('Hello \\\\World\\\\')\n",
    "print(f'Hello World')\n",
    "#print(\"Hello World\")\n",
    "\n",
    "# This is a comment, which can be used to explain the code and make it more readable. \n",
    "# This is not executed by the interpreter/compiler"
   ]
  },
  {
   "cell_type": "markdown",
   "metadata": {},
   "source": [
    "### Variables\n",
    "Variables in Python are like versatile containers that hold data values. When you assign a value to a variable, you're essentially storing that value in the container. \n",
    "\n",
    "You don't need to declare the type of variable in Python—it adapts based on the assigned value. Plus, these variables are flexible: you can change their type and value at any point after they’ve been set.\n",
    "\n",
    "For instance, you could start with a variable holding an integer and later change it to store a string or even a complex object."
   ]
  },
  {
   "cell_type": "code",
   "execution_count": 11,
   "metadata": {},
   "outputs": [
    {
     "name": "stdout",
     "output_type": "stream",
     "text": [
      "10\n",
      "Alice\n",
      "Alice dons the jersey number 10\n"
     ]
    }
   ],
   "source": [
    "x = 10\n",
    "y = \"Alice\"\n",
    "print(x)\n",
    "print(y)\n",
    "print(f'{y} dons the jersey number {x}')"
   ]
  },
  {
   "cell_type": "code",
   "execution_count": 12,
   "metadata": {},
   "outputs": [
    {
     "name": "stdout",
     "output_type": "stream",
     "text": [
      "7\n",
      "Bob\n"
     ]
    }
   ],
   "source": [
    "x = 7\n",
    "print(x)\n",
    "\n",
    "x = \"Bob\" # Redefining x\n",
    "print(x)"
   ]
  },
  {
   "cell_type": "code",
   "execution_count": 13,
   "metadata": {},
   "outputs": [
    {
     "name": "stdout",
     "output_type": "stream",
     "text": [
      "3.56\n",
      "2.0\n",
      "5\n"
     ]
    }
   ],
   "source": [
    "'''\n",
    "Specifying the data type of a variable:\n",
    "In Python, you can specify the data type of a variable when you declare it.\n",
    "For example, you can declare a variable as an integer using the int() function or as a string using str() function.\n",
    "\n",
    "'''\n",
    "x = str(3.56) # '3.56'\n",
    "y = float(2) # 2.0\n",
    "z = int(5) # 5\n",
    "print(x)\n",
    "print(y)\n",
    "print(z)\n",
    "\n",
    "#print (x+y) # raises error as you can't add/concatenate a string with float"
   ]
  },
  {
   "cell_type": "code",
   "execution_count": 14,
   "metadata": {},
   "outputs": [
    {
     "name": "stdout",
     "output_type": "stream",
     "text": [
      "<class 'int'>\n",
      "<class 'float'>\n",
      "<class 'str'>\n",
      "<class 'complex'>\n"
     ]
    }
   ],
   "source": [
    "# type() function\n",
    "print(type(5))  # Output: <class 'int'>\n",
    "print(type(3.14))  # Output: <class 'float'>\n",
    "print(type('Alice')) # Output: <class 'str'>\n",
    "print(type(4 + 3j)) # Output: <class 'complex'>"
   ]
  },
  {
   "cell_type": "markdown",
   "metadata": {},
   "source": [
    "Variable names are case-sensitive, X and x are different variables."
   ]
  },
  {
   "cell_type": "code",
   "execution_count": 15,
   "metadata": {},
   "outputs": [
    {
     "name": "stdout",
     "output_type": "stream",
     "text": [
      "a+b = 15\n",
      "a-b = 5\n",
      "a*b = 50\n",
      "a/b = 2.0\n",
      "a%b = 0\n",
      "a**b = 100000\n",
      "a//b = 2\n",
      "a&b = 0\n",
      "a|b = 15\n",
      "a>b = True\n",
      "False\n",
      "True\n"
     ]
    }
   ],
   "source": [
    "# Basic Arithmetic\n",
    "a, b = 10, 5 # Try out with different values\n",
    "\n",
    "# Addition\n",
    "print(f'a+b = {a+b}')\n",
    "\n",
    "# Subtraction\n",
    "print(f'a-b = {a-b}')\n",
    "\n",
    "# Multiplication\n",
    "print(f'a*b = {a*b}')\n",
    "\n",
    "# Division\n",
    "print(f'a/b = {a/b}')\n",
    "\n",
    "# Modulus\n",
    "print(f'a%b = {a%b}')\n",
    "\n",
    "# Exponentiation\n",
    "print(f'a**b = {a**b}')\n",
    "\n",
    "# Floor Division\n",
    "print(f'a//b = {a//b}')  # This will return the largest whole number\n",
    "\n",
    "# Bitwise AND\n",
    "print(f'a&b = {a&b}')\n",
    "\n",
    "# Bitwise OR\n",
    "print(f'a|b = {a|b}')\n",
    "\n",
    "# Booleans\n",
    "print(f'a>b = {a>b}')  # This will return a boolean value\n",
    "print(bool(0))\n",
    "print(bool(1))"
   ]
  },
  {
   "cell_type": "code",
   "execution_count": 16,
   "metadata": {},
   "outputs": [
    {
     "name": "stdout",
     "output_type": "stream",
     "text": [
      "True\n",
      "False\n"
     ]
    }
   ],
   "source": [
    "# isinstance() is a useful function, which can be used to determine if an object is of a certain data type or not\n",
    "print(isinstance(10, int))  # This will return True\n",
    "print(isinstance(10, float))  # This will return False"
   ]
  },
  {
   "cell_type": "markdown",
   "metadata": {},
   "source": [
    "### List, Tuple and Dictionary"
   ]
  },
  {
   "cell_type": "markdown",
   "metadata": {},
   "source": [
    "What are lists?\n",
    "\n",
    "Lists are collections of items that can be used to store and organize data.They are a fundamental data structure in programming and are used to store a sequence of elements that can be of any data type, including strings, integers, floats, and other lists. \n",
    "\n",
    "Created using $[\\,]$ brackets"
   ]
  },
  {
   "cell_type": "code",
   "execution_count": 17,
   "metadata": {},
   "outputs": [
    {
     "name": "stdout",
     "output_type": "stream",
     "text": [
      "['Maths', 'Physics', 'Computation']\n",
      "3\n"
     ]
    }
   ],
   "source": [
    "list_A = ['Maths', 'Physics', 'Computation']\n",
    "print(list_A)\n",
    "print(len(list_A))  # Determines number of elements a list has"
   ]
  },
  {
   "cell_type": "markdown",
   "metadata": {},
   "source": [
    "List is ordered, are mutable and allows duplicate values\n",
    "\n",
    "From Python's perspective, lists are defined as objects with the data type 'list'"
   ]
  },
  {
   "cell_type": "code",
   "execution_count": 18,
   "metadata": {},
   "outputs": [
    {
     "name": "stdout",
     "output_type": "stream",
     "text": [
      "<class 'list'>\n"
     ]
    }
   ],
   "source": [
    "print(type(list_A))"
   ]
  },
  {
   "cell_type": "code",
   "execution_count": 19,
   "metadata": {},
   "outputs": [
    {
     "name": "stdout",
     "output_type": "stream",
     "text": [
      "Physics\n",
      "Maths\n",
      "['Maths', 'Physics']\n"
     ]
    }
   ],
   "source": [
    "x = list_A[1]  # List items are indexed and you can access them by referring to the index number(0 to n-1)\n",
    "print(x)\n",
    "\n",
    "y= list_A[-3]  # Negative indexing\n",
    "print(y)\n",
    "\n",
    "print(list_A[0:2]) # Range of indices (0(first terms) included and 2(second term) not included)"
   ]
  },
  {
   "cell_type": "code",
   "execution_count": 20,
   "metadata": {},
   "outputs": [
    {
     "name": "stdout",
     "output_type": "stream",
     "text": [
      "['Maths', 'Physics', 'Biology']\n"
     ]
    }
   ],
   "source": [
    "list_A[2] = \"Biology\"   # Changing the element of the list\n",
    "print(list_A)"
   ]
  },
  {
   "cell_type": "code",
   "execution_count": 21,
   "metadata": {},
   "outputs": [
    {
     "name": "stdout",
     "output_type": "stream",
     "text": [
      "['Astrophysics', 'Math', 'Biology']\n"
     ]
    }
   ],
   "source": [
    "list_A[0:2] = [\"Astrophysics\", \"Math\"]\n",
    "print(list_A)"
   ]
  },
  {
   "cell_type": "code",
   "execution_count": 22,
   "metadata": {},
   "outputs": [
    {
     "name": "stdout",
     "output_type": "stream",
     "text": [
      "['Astrophysics', 'Maths', 'Physics', 'Mechanics']\n"
     ]
    }
   ],
   "source": [
    "list_A[1:4] = ['Maths', 'Physics', 'Mechanics']\n",
    "print(list_A)"
   ]
  },
  {
   "cell_type": "code",
   "execution_count": 23,
   "metadata": {},
   "outputs": [
    {
     "name": "stdout",
     "output_type": "stream",
     "text": [
      "['Astrophysics', 'Maths', 'Economics', 'Physics', 'Mechanics']\n",
      "['Astrophysics', 'Maths', 'Economics', 'Physics', 'Mechanics', 'Maths and Physics Club']\n"
     ]
    }
   ],
   "source": [
    "list_A.insert(2, \"Economics\")\n",
    "print(list_A)\n",
    "\n",
    "list_A.append(\"Maths and Physics Club\") # Adds item to the end of the list\n",
    "print(list_A)"
   ]
  },
  {
   "cell_type": "code",
   "execution_count": 24,
   "metadata": {},
   "outputs": [
    {
     "name": "stdout",
     "output_type": "stream",
     "text": [
      "['Astrophysics', 'Economics', 'Maths', 'Maths and Physics Club', 'Mechanics', 'Physics']\n"
     ]
    }
   ],
   "source": [
    "list_A.sort() # Sorts list alphanumerically in ascending order\n",
    "print(list_A) # Prints the sorted list"
   ]
  },
  {
   "cell_type": "code",
   "execution_count": 25,
   "metadata": {},
   "outputs": [
    {
     "name": "stdout",
     "output_type": "stream",
     "text": [
      "[1, 2, 3, 4, 5, 6]\n"
     ]
    }
   ],
   "source": [
    "A = [1,2,3]\n",
    "B = [4,5,6]\n",
    "C = A + B # Joins the list\n",
    "print(C)"
   ]
  },
  {
   "cell_type": "markdown",
   "metadata": {},
   "source": [
    "There are numerous operations available for lists. For more information, feel free to explore various resources. Remember, Google can be a valuable ally in your search!\n",
    "\n",
    "\n"
   ]
  },
  {
   "cell_type": "markdown",
   "metadata": {},
   "source": [
    "Tuple is similar to list, just that it is immutable!\n",
    "\n",
    "Written in ( )"
   ]
  },
  {
   "cell_type": "code",
   "execution_count": 26,
   "metadata": {},
   "outputs": [
    {
     "name": "stdout",
     "output_type": "stream",
     "text": [
      "(1, 2, 3, 4, 5, 'Maths and Physics')\n"
     ]
    }
   ],
   "source": [
    "tuple_1 = (1,2,3,4,5, \"Maths and Physics\")\n",
    "print(tuple_1)"
   ]
  },
  {
   "cell_type": "code",
   "execution_count": 27,
   "metadata": {},
   "outputs": [
    {
     "data": {
      "text/plain": [
       "3"
      ]
     },
     "execution_count": 27,
     "metadata": {},
     "output_type": "execute_result"
    }
   ],
   "source": [
    "tuple_1[2]"
   ]
  },
  {
   "cell_type": "code",
   "execution_count": 28,
   "metadata": {},
   "outputs": [
    {
     "data": {
      "text/plain": [
       "(1, 3, 5)"
      ]
     },
     "execution_count": 28,
     "metadata": {},
     "output_type": "execute_result"
    }
   ],
   "source": [
    "tuple_1[0:6:2] # Index slicing"
   ]
  },
  {
   "cell_type": "markdown",
   "metadata": {},
   "source": [
    "A dictionary is a collection which is ordered, mutable and do not allow duplicates.\n",
    "\n",
    "Dictionaries are used to store data values in key:value pairs. Key is immutable and can be used for indexing"
   ]
  },
  {
   "cell_type": "code",
   "execution_count": 29,
   "metadata": {},
   "outputs": [
    {
     "name": "stdout",
     "output_type": "stream",
     "text": [
      "{'Photoelectric Effect': 'Heinrich Hertz', 'X-rays': 'Wilhelm Roentgen', 'Nuclear Fission': 'Enrico Fermi', 'Electron': 'J.J Thomson'}\n"
     ]
    }
   ],
   "source": [
    "thisdict = {\n",
    "  \"Photoelectric Effect\": \"Heinrich Hertz\",\n",
    "  \"X-rays\": \"Wilhelm Roentgen\",\n",
    "  \"Nuclear Fission\": \"Enrico Fermi\",\n",
    "  \"Electron\": \"J.J Thomson\"\n",
    "}\n",
    "print(thisdict)"
   ]
  },
  {
   "cell_type": "code",
   "execution_count": 30,
   "metadata": {},
   "outputs": [
    {
     "name": "stdout",
     "output_type": "stream",
     "text": [
      "dict_keys(['Photoelectric Effect', 'X-rays', 'Nuclear Fission', 'Electron'])\n"
     ]
    }
   ],
   "source": [
    "x = thisdict.keys() # Returns a list of all keys\n",
    "print(x)"
   ]
  },
  {
   "cell_type": "code",
   "execution_count": 31,
   "metadata": {},
   "outputs": [
    {
     "name": "stdout",
     "output_type": "stream",
     "text": [
      "The Photoelectric Effect is credited to Heinrich Hertz\n"
     ]
    }
   ],
   "source": [
    "discovery = 'Photoelectric Effect'\n",
    "print(f'The {discovery} is credited to {thisdict[discovery]}')"
   ]
  },
  {
   "cell_type": "markdown",
   "metadata": {},
   "source": [
    "This information is sufficient for this module. Curious? Want to learn more? Internet is your ultimate friend buddy!"
   ]
  },
  {
   "cell_type": "markdown",
   "metadata": {},
   "source": [
    "## Conditionals"
   ]
  },
  {
   "cell_type": "markdown",
   "metadata": {},
   "source": [
    "Control flow statements, such as loops and conditionals, are organized using indentation to define blocks of code. As long as the indentation is consistent within a block, the exact number of whitespaces doesn't matter.\n",
    "\n",
    "Conditionals in Python use the if...elif...else statement to execute different blocks of code based on the evaluation of boolean expressions. When the if condition evaluates to True, its corresponding block of code runs. If the if condition is False, the program checks the elif conditions in sequence. The first elif condition that evaluates to True triggers its associated block of code to run. If none of the elif conditions are True, and an else statement is present, the else block runs by default.\n",
    "\n",
    "This structure allows for clear, logical decision-making in your programs, enabling your code to respond dynamically to different inputs and conditions."
   ]
  },
  {
   "cell_type": "code",
   "execution_count": 32,
   "metadata": {},
   "outputs": [
    {
     "name": "stdout",
     "output_type": "stream",
     "text": [
      "x is less than 20\n"
     ]
    }
   ],
   "source": [
    "x = 10\n",
    "\n",
    "if x > 20:\n",
    "    print(\"x is greater than 20\")\n",
    "elif x == 20:\n",
    "    print(\"x is 20\")\n",
    "else:\n",
    "    print(\"x is less than 20\")"
   ]
  },
  {
   "cell_type": "code",
   "execution_count": 33,
   "metadata": {},
   "outputs": [
    {
     "name": "stdout",
     "output_type": "stream",
     "text": [
      "x is between 10 and 40\n"
     ]
    }
   ],
   "source": [
    "x = 20\n",
    "\n",
    "if x>10:\n",
    "    if x<40:   # Nested Loop ('if' statement inside 'if')\n",
    "        print(\"x is between 10 and 40\")\n",
    "    else:\n",
    "        print(\"x is greater than 40\")\n",
    "else:\n",
    "    print(\"x is less than or equal to 10\")"
   ]
  },
  {
   "cell_type": "markdown",
   "metadata": {},
   "source": [
    "## Loops"
   ]
  },
  {
   "cell_type": "markdown",
   "metadata": {},
   "source": [
    "Python has two primitive loop commands:\n",
    "1) **While**: This loop runs as long as a specified condition is true. It's great for situations where you don't know in advance how many iterations you'll need. The loop continues to execute until the condition evaluates to false.\n",
    "\n",
    "2) **For**: This loop iterates over a sequence (like a list, tuple, or string) or any other iterable object. It’s typically used when you know the number of iterations beforehand. With for, you can loop through items in the sequence directly."
   ]
  },
  {
   "cell_type": "code",
   "execution_count": 34,
   "metadata": {},
   "outputs": [
    {
     "name": "stdout",
     "output_type": "stream",
     "text": [
      "0\n",
      "1\n",
      "2\n",
      "3\n",
      "4\n",
      "5\n",
      "0\n",
      "1\n",
      "2\n",
      "3\n",
      "4\n",
      "5\n"
     ]
    }
   ],
   "source": [
    "i = 0\n",
    "while i < 6:\n",
    "    print(i)\n",
    "    i += 1\n",
    "\n",
    "\n",
    "for i in range(6):\n",
    "    print(i)"
   ]
  },
  {
   "cell_type": "code",
   "execution_count": 35,
   "metadata": {},
   "outputs": [
    {
     "name": "stdout",
     "output_type": "stream",
     "text": [
      "1\n",
      "2\n",
      "3\n"
     ]
    }
   ],
   "source": [
    "i = 1\n",
    "while i < 6:\n",
    "  print(i)\n",
    "  if i == 3:\n",
    "    break # Use of break command\n",
    "  i += 1"
   ]
  },
  {
   "cell_type": "code",
   "execution_count": 36,
   "metadata": {},
   "outputs": [
    {
     "name": "stdout",
     "output_type": "stream",
     "text": [
      "p\n",
      "h\n",
      "y\n",
      "s\n",
      "i\n",
      "c\n",
      "s\n"
     ]
    }
   ],
   "source": [
    "for x in \"physics\":\n",
    "    print(x)"
   ]
  },
  {
   "cell_type": "markdown",
   "metadata": {},
   "source": [
    "## Problem: Radioactive Decay\n",
    "A radioactive substance decays at a rate proportional to the amount of substance present. Mathematically, \n",
    "\n",
    "$$\\frac{dN}{dt}=-kN$$\n",
    "\n",
    "where \\(N\\) is the amount of substance at time \\(t\\) and \\(k\\) is decay constant. \n",
    "\n",
    "Approximate the amount of the substance at t=100s given initial amount $N_0 = 1000$ and $k = 2$ using Euler's Method."
   ]
  }
 ],
 "metadata": {
  "kernelspec": {
   "display_name": "Python 3",
   "language": "python",
   "name": "python3"
  },
  "language_info": {
   "codemirror_mode": {
    "name": "ipython",
    "version": 3
   },
   "file_extension": ".py",
   "mimetype": "text/x-python",
   "name": "python",
   "nbconvert_exporter": "python",
   "pygments_lexer": "ipython3",
   "version": "3.8.10"
  }
 },
 "nbformat": 4,
 "nbformat_minor": 2
}
